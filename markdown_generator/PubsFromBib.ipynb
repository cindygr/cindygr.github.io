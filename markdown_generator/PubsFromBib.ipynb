{
 "cells": [
  {
   "cell_type": "markdown",
   "metadata": {},
   "source": [
    "# Publications markdown generator for academicpages\n",
    "\n",
    "Takes a set of bibtex of publications and converts them for use with [academicpages.github.io](academicpages.github.io). This is an interactive Jupyter notebook ([see more info here](http://jupyter-notebook-beginner-guide.readthedocs.io/en/latest/what_is_jupyter.html)). \n",
    "\n",
    "The core python code is also in `pubsFromBibs.py`. \n",
    "Run either from the `markdown_generator` folder after replacing updating the publist dictionary with:\n",
    "* bib file names\n",
    "* specific venue keys based on your bib file preferences\n",
    "* any specific pre-text for specific files\n",
    "* Collection Name (future feature)\n",
    "\n",
    "TODO: Make this work with other databases of citations, \n",
    "TODO: Merge this with the existing TSV parsing solution"
   ]
  },
  {
   "cell_type": "code",
   "metadata": {
    "ExecuteTime": {
     "end_time": "2024-11-09T23:05:32.352517Z",
     "start_time": "2024-11-09T23:05:30.085766Z"
    }
   },
   "source": [
    "import sys\n",
    "!{sys.executable} -m pip install pybtex\n",
    "\n",
    "from pybtex.database.input import bibtex\n",
    "import pybtex.database.input.bibtex \n",
    "from time import strptime\n",
    "import string\n",
    "import html\n",
    "import os\n",
    "import re"
   ],
   "outputs": [
    {
     "name": "stdout",
     "output_type": "stream",
     "text": [
      "Collecting pybtex\r\n",
      "  Downloading pybtex-0.24.0-py2.py3-none-any.whl.metadata (2.0 kB)\r\n",
      "Requirement already satisfied: PyYAML>=3.01 in /opt/anaconda3/lib/python3.12/site-packages (from pybtex) (6.0.1)\r\n",
      "Collecting latexcodec>=1.0.4 (from pybtex)\r\n",
      "  Downloading latexcodec-3.0.0-py3-none-any.whl.metadata (4.9 kB)\r\n",
      "Requirement already satisfied: six in /opt/anaconda3/lib/python3.12/site-packages (from pybtex) (1.16.0)\r\n",
      "Downloading pybtex-0.24.0-py2.py3-none-any.whl (561 kB)\r\n",
      "\u001B[2K   \u001B[90m━━━━━━━━━━━━━━━━━━━━━━━━━━━━━━━━━━━━━━━━\u001B[0m \u001B[32m561.4/561.4 kB\u001B[0m \u001B[31m6.1 MB/s\u001B[0m eta \u001B[36m0:00:00\u001B[0ma \u001B[36m0:00:01\u001B[0m\r\n",
      "\u001B[?25hDownloading latexcodec-3.0.0-py3-none-any.whl (18 kB)\r\n",
      "Installing collected packages: latexcodec, pybtex\r\n",
      "Successfully installed latexcodec-3.0.0 pybtex-0.24.0\r\n"
     ]
    }
   ],
   "execution_count": 5
  },
  {
   "cell_type": "code",
   "metadata": {
    "ExecuteTime": {
     "end_time": "2024-11-10T02:30:17.791695Z",
     "start_time": "2024-11-10T02:30:17.779405Z"
    }
   },
   "source": [
    "#todo: incorporate different collection types rather than a catch all publications, requires other changes to template\n",
    "publist = {\n",
    "    \"\"\"\n",
    "    \"proceeding\": {\n",
    "        \"file\" : \"journal.bib\",\n",
    "        \"venuekey\": \"booktitle\",\n",
    "        \"venue-pretext\": \"In the proceedings of \",\n",
    "        \"collection\" : {\"name\":\"publications\",\n",
    "                        \"permalink\":\"/publication/\"}\n",
    "        \n",
    "    },\"\"\"\n",
    "    \"journal\":{\n",
    "        \"file\": \"journal.bib\",\n",
    "        \"venuekey\" : \"journal\",\n",
    "        \"venue-pretext\" : \"\",\n",
    "        \"collection\" : {\"name\":\"publications\",\n",
    "                        \"permalink\":\"/publication/\"}\n",
    "    } \n",
    "}"
   ],
   "outputs": [],
   "execution_count": 7
  },
  {
   "cell_type": "code",
   "metadata": {
    "ExecuteTime": {
     "end_time": "2024-11-10T02:30:22.780105Z",
     "start_time": "2024-11-10T02:30:22.777033Z"
    }
   },
   "source": [
    "html_escape_table = {\n",
    "    \"&\": \"&amp;\",\n",
    "    '\"': \"&quot;\",\n",
    "    \"'\": \"&apos;\"\n",
    "    }\n",
    "\n",
    "def html_escape(text):\n",
    "    \"\"\"Produce entities within text.\"\"\"\n",
    "    return \"\".join(html_escape_table.get(c,c) for c in text)"
   ],
   "outputs": [],
   "execution_count": 8
  },
  {
   "cell_type": "code",
   "metadata": {
    "scrolled": false,
    "ExecuteTime": {
     "end_time": "2024-11-10T18:32:48.238409Z",
     "start_time": "2024-11-10T18:32:48.202281Z"
    }
   },
   "source": [
    "for pubsource in publist:\n",
    "    parser = bibtex.Parser()\n",
    "    bibdata = parser.parse_file(publist[pubsource][\"file\"])\n",
    "\n",
    "    #loop through the individual references in a given bibtex file\n",
    "    for bib_id in bibdata.entries:\n",
    "        #reset default date\n",
    "        pub_year = \"1900\"\n",
    "        pub_month = \"01\"\n",
    "        pub_day = \"01\"\n",
    "        \n",
    "        b = bibdata.entries[bib_id].fields\n",
    "        \n",
    "        try:\n",
    "            pub_year = f'{b[\"year\"]}'\n",
    "\n",
    "            #todo: this hack for month and day needs some cleanup\n",
    "            if \"month\" in b.keys(): \n",
    "                if(len(b[\"month\"])<3):\n",
    "                    pub_month = \"0\"+b[\"month\"]\n",
    "                    pub_month = pub_month[-2:]\n",
    "                elif(b[\"month\"] not in range(12)):\n",
    "                    tmnth = strptime(b[\"month\"][:3],'%b').tm_mon   \n",
    "                    pub_month = \"{:02d}\".format(tmnth) \n",
    "                else:\n",
    "                    pub_month = str(b[\"month\"])\n",
    "            if \"day\" in b.keys(): \n",
    "                pub_day = str(b[\"day\"])\n",
    "\n",
    "                \n",
    "            pub_date = pub_year+\"-\"+pub_month+\"-\"+pub_day\n",
    "            \n",
    "            #strip out {} as needed (some bibtex entries that maintain formatting)\n",
    "            clean_title = b[\"title\"].replace(\"{\", \"\").replace(\"}\",\"\").replace(\"\\\\\",\"\").replace(\" \",\"-\")    \n",
    "\n",
    "            url_slug = re.sub(\"\\\\[.*\\\\]|[^a-zA-Z0-9_-]\", \"\", clean_title)\n",
    "            url_slug = url_slug.replace(\"--\",\"-\")\n",
    "\n",
    "            md_filename = (str(pub_date) + \"-\" + url_slug + \".md\").replace(\"--\",\"-\")\n",
    "            html_filename = (str(pub_date) + \"-\" + url_slug).replace(\"--\",\"-\")\n",
    "\n",
    "            #Build Citation from text\n",
    "            citation = \"\"\n",
    "\n",
    "            #citation authors - todo - add highlighting for primary author?\n",
    "            for author in bibdata.entries[bib_id].persons[\"author\"]:\n",
    "                citation = citation+\" \"+author.first_names[0]+\" \"+author.last_names[0]+\", \"\n",
    "\n",
    "            #citation title\n",
    "            citation = citation + \"\\\"\" + html_escape(b[\"title\"].replace(\"{\", \"\").replace(\"}\",\"\").replace(\"\\\\\",\"\")) + \".\\\"\"\n",
    "\n",
    "            #add venue logic depending on citation type\n",
    "            venue = publist[pubsource][\"venue-pretext\"]+b[publist[pubsource][\"venuekey\"]].replace(\"{\", \"\").replace(\"}\",\"\").replace(\"\\\\\",\"\")\n",
    "\n",
    "            citation = citation + \" \" + html_escape(venue)\n",
    "            citation = citation + \", \" + pub_year + \".\"\n",
    "\n",
    "            \n",
    "            ## YAML variables\n",
    "            md = \"---\\ntitle: \\\"\"   + html_escape(b[\"title\"].replace(\"{\", \"\").replace(\"}\",\"\").replace(\"\\\\\",\"\")) + '\"\\n'\n",
    "            \n",
    "            md += \"\"\"collection: \"\"\" +  publist[pubsource][\"collection\"][\"name\"]\n",
    "\n",
    "            md += \"\"\"\\ncategory: manuscripts\"\"\"\n",
    "\n",
    "            md += \"\"\"\\npermalink: \"\"\" + publist[pubsource][\"collection\"][\"permalink\"]  + html_filename\n",
    "            \n",
    "            if \"note\" in b.keys():\n",
    "                if len(str(b[\"note\"])) > 5:\n",
    "                    md += \"\\nexcerpt: '\" + html_escape(b[\"note\"]) + \"'\"\n",
    "                    note = True\n",
    "\n",
    "            md += \"\\ndate: \" + str(pub_date) \n",
    "\n",
    "            md += \"\\nvenue: '\" + html_escape(venue) + \"'\"\n",
    "\n",
    "            \"\"\"            \n",
    "            url = False\n",
    "            if \"url\" in b.keys():\n",
    "                if len(str(b[\"url\"])) > 5:\n",
    "                    md += \"\\npaperurl: '\" + b[\"url\"] + \"'\"\n",
    "                    url = True\n",
    "            \"\"\"\n",
    "\n",
    "            md += \"\"\"\\npaperurl: 'http://cindygr.github.io/files/\"\"\" + bib_id + \"\"\".pdf'\\n\"\"\"\n",
    "            \n",
    "\n",
    "            md += \"\\ncitation: '\" + html_escape(citation) + \"'\"\n",
    "\n",
    "            md += \"\\n---\"\n",
    "\n",
    "            \n",
    "            ## Markdown description for individual page\n",
    "            if note:\n",
    "                md += \"\\n\" + html_escape(b[\"note\"]) + \"\\n\"\n",
    "\n",
    "            if url:\n",
    "                md += \"\\n[Access paper here](\" + b[\"url\"] + \"){:target=\\\"_blank\\\"}\\n\" \n",
    "            #  else:\n",
    "            #      md += \"\\nUse [Google Scholar](https://scholar.google.com/scholar?q=\"+html.escape(clean_title.replace(\"-\",\"+\"))+\"){:target=\\\"_blank\\\"} for full citation\"\n",
    "\n",
    "            md_filename = os.path.basename(md_filename)\n",
    "\n",
    "            with open(\"../_publications/\" + md_filename, 'w', encoding=\"utf-8\") as f:\n",
    "                f.write(md)\n",
    "            print(f'SUCESSFULLY PARSED {bib_id}: \\\"', b[\"title\"][:60],\"...\"*(len(b['title'])>60),\"\\\"\")\n",
    "        # field may not exist for a reference\n",
    "        except KeyError as e:\n",
    "            print(f'WARNING Missing Expected Field {e} from entry {bib_id}: \\\"', b[\"title\"][:30],\"...\"*(len(b['title'])>30),\"\\\"\")\n",
    "            continue\n"
   ],
   "outputs": [
    {
     "name": "stdout",
     "output_type": "stream",
     "text": [
      "SUCESSFULLY PARSED cviu2013sa: \" Statistical analysis of manual segmentations of structures i ... \"\n",
      "SUCESSFULLY PARSED vast2012sgc: \" Scatter/gather clustering: Flexibly incorporating user feedb ... \"\n",
      "SUCESSFULLY PARSED vc2012clsd: \" Comparing local shape descriptors  \"\n",
      "SUCESSFULLY PARSED jas2011ss: \" Shape Space Analysis of Structures in Bat Biosonar  \"\n",
      "SUCESSFULLY PARSED cg2011sc: \" Shape classification and normal estimation for non-uniformly ... \"\n",
      "SUCESSFULLY PARSED jcsc2010al: \" Experiences with active learning in CS 3  \"\n",
      "SUCESSFULLY PARSED jcsc2010sd: \" The active-learning transformation: a case study in software ... \"\n",
      "SUCESSFULLY PARSED jbe2010cg: \" A new method to measure cortical growth in the developing br ... \"\n",
      "SUCESSFULLY PARSED tog2009sg: \" Subtle gaze direction  \"\n",
      "SUCESSFULLY PARSED tap2009st: \" Search task performance using subtle gaze direction with the ... \"\n",
      "SUCESSFULLY PARSED vc2009sr: \" Adaptive smooth surface fitting with manifolds  \"\n",
      "SUCESSFULLY PARSED cg2008pu: \" A sketch-based user interface for reconstructing architectur ... \"\n",
      "SUCESSFULLY PARSED jgt2007em: \" Continuous Cube Mapping  \"\n",
      "SUCESSFULLY PARSED vc2007dme: \" Perceptually meaningful image editing: Manipulating perceive ... \"\n",
      "SUCESSFULLY PARSED jbo2007h: \" Three-dimensional panoramic imaging of cardiac arrhythmias i ... \"\n",
      "SUCESSFULLY PARSED tcgv2007ajm: \" Arthrodial joint markerless cross-parameterization and biome ... \"\n",
      "SUCESSFULLY PARSED jgt2007ci: \" Camera Keyframing using Linear Interpolation of Matrices  \"\n",
      "SUCESSFULLY PARSED tcgv2007ttl: \" Table-top computed lighting for practical digital photograph ... \"\n",
      "SUCESSFULLY PARSED sig2006tm: \" Interactive decal compositing with discrete exponential maps  \"\n",
      "SUCESSFULLY PARSED ijsm2006c: \" Estimating curvature on triangular meshes  \"\n",
      "SUCESSFULLY PARSED jgt2005IBar: \" Implementing the IBar camera widget  \"\n",
      "SUCESSFULLY PARSED aaai2004sc: \" Say cheese! Experiences with a robot photographer  \"\n",
      "SUCESSFULLY PARSED ieeeTBE2004ejc: \" Estimating Joint Contact Areas and Ligament Lengths from Bon ... \"\n",
      "SUCESSFULLY PARSED ijsm2004pm: \" Parameterization using manifolds  \"\n",
      "SUCESSFULLY PARSED jbe2002fms: \" Fitting manifold surfaces to three-dimensional point clouds  \"\n",
      "SUCESSFULLY PARSED euro1998fse: \" A Framework for Synchronized Editing of Multiple Curve Repre ... \"\n"
     ]
    }
   ],
   "execution_count": 18
  },
  {
   "cell_type": "code",
   "metadata": {
    "ExecuteTime": {
     "end_time": "2024-11-10T02:52:04.456345Z",
     "start_time": "2024-11-10T02:52:04.453390Z"
    }
   },
   "source": [],
   "outputs": [],
   "execution_count": 14
  },
  {
   "metadata": {},
   "cell_type": "code",
   "outputs": [],
   "execution_count": null,
   "source": ""
  }
 ],
 "metadata": {
  "kernelspec": {
   "display_name": "Python 3",
   "language": "python",
   "name": "python3"
  },
  "language_info": {
   "codemirror_mode": {
    "name": "ipython",
    "version": 3
   },
   "file_extension": ".py",
   "mimetype": "text/x-python",
   "name": "python",
   "nbconvert_exporter": "python",
   "pygments_lexer": "ipython3",
   "version": "3.7.1"
  }
 },
 "nbformat": 4,
 "nbformat_minor": 2
}
